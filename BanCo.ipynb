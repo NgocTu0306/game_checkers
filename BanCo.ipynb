{
 "cells": [
  {
   "cell_type": "code",
   "execution_count": null,
   "metadata": {},
   "outputs": [],
   "source": [
    "from checkers.constants import MAU_SANG_BAN_CO, MAU_TOI_BAN_CO, MAU_DEN\n",
    "from checkers.QuanCo import* \n",
    "\n",
    "def __init__(self, game):\n",
    "        self.banCo = [] #Danh sách 2 chiều lưu trữ trạng thái của các ô trên bàn cờ\n",
    "        self.khoiTaoBanCo()\n",
    "        self.game = game #Giúp cho biết trạng thái của trò chơi\n",
    "        \n",
    "def khoiTaoBanCo(self):\n",
    "        #Lặp qua từng hàng\n",
    "        for hang in range(SO_HANG):\n",
    "            hangList = [] #Danh sách để lưu các ô trong hàng hiện tại\n",
    "            #Lặp qua từng cột\n",
    "            for cot in range(SO_COT):\n",
    "                #Quân trắng đặt ở 3 hàng đầu tiên và chỉ số cột lẻ\n",
    "                if hang < 3 and (hang + cot) % 2 != 0:\n",
    "                    hangList.append(QuanCo(hang, cot, MAU_TRANG))  # Quân trắng ở 3 hàng đầu\n",
    "                #Quân đen đặt ở 3 hàng cuối cùng\n",
    "                elif hang >= SO_HANG - 3 and (hang + cot) % 2 != 0:\n",
    "                    hangList.append(QuanCo(hang, cot, MAU_DEN))  # Quân đen ở 3 hàng cuối\n",
    "                #Các ô còn lại không chứa quân cờ\n",
    "                else:\n",
    "                    hangList.append(None)  # Các ô trống\n",
    "            # hangList sẽ được thêm vào danh sách banCo và tạo thành bàn cờ hoành chỉnh\n",
    "            self.banCo.append(hangList)"
   ]
  },
  {
   "cell_type": "code",
   "execution_count": 7,
   "metadata": {},
   "outputs": [],
   "source": [
    "def get_piece(self, hang, cot):\n",
    "        \"\"\"Trả về quân cờ tại vị trí (hang, cot).\"\"\"\n",
    "        if 0 <= hang < SO_HANG and 0 <= cot < SO_COT:\n",
    "            return self.banCo[hang][cot]\n",
    "        return None"
   ]
  },
  {
   "cell_type": "code",
   "execution_count": 8,
   "metadata": {},
   "outputs": [],
   "source": [
    "def veBanCo(self, canvas):\n",
    "        # Vẽ bàn cờ\n",
    "        for hang in range(SO_HANG):\n",
    "            for cot in range(SO_COT):\n",
    "                #Nếu tổng của (hang+cot) là số chẵn\n",
    "                color = MAU_SANG_BAN_CO if (hang + cot) % 2 == 0 else MAU_TOI_BAN_CO\n",
    "                #Vẽ ô thành hình chữ nhật\n",
    "                canvas.create_rectangle(cot * KICH_THUOC_O, hang * KICH_THUOC_O,\n",
    "                                        (cot + 1) * KICH_THUOC_O, (hang + 1) * KICH_THUOC_O,\n",
    "                                        fill=color, outline=\"black\")\n",
    "        \n",
    "        # Vẽ quân cờ\n",
    "        for hang in range(SO_HANG):\n",
    "            for cot in range(SO_COT):\n",
    "                quan = self.banCo[hang][cot]\n",
    "                #Nếu ô có quan (quân cờ)\n",
    "                if quan is not None:\n",
    "                    #Vẽ cờ lên bàn cờ\n",
    "                    quan.veQuanCo(canvas)"
   ]
  },
  {
   "cell_type": "code",
   "execution_count": 9,
   "metadata": {},
   "outputs": [],
   "source": [
    "def set_piece(self, hang, cot, piece):\n",
    "        \"\"\"Đặt quân cờ tại vị trí chỉ định.\"\"\"\n",
    "        if 0 <= hang < 8 and 0 <= cot < 8:\n",
    "            self.banCo[hang][cot] = piece\n",
    "\n",
    "def remove_piece(self, hang, cot):\n",
    "    \"\"\"Xóa quân cờ tại vị trí cũ.\"\"\"\n",
    "    self.banCo[hang][cot] = None"
   ]
  },
  {
   "cell_type": "code",
   "execution_count": null,
   "metadata": {},
   "outputs": [],
   "source": [
    "def kiemTraThang(self):\n",
    "        #Khởi tạo biến khi không còn quân cờ trên bàn cờ\n",
    "        quan_trang = quan_den = False\n",
    "        for hang in range(SO_HANG):\n",
    "            for cot in range(SO_COT):\n",
    "                #Lấy quan tại vị trí hang,cot trên bàn cờ\n",
    "                quan = self.banCo[hang][cot]\n",
    "                #Nếu ô đó có quân\n",
    "                if quan is not None:\n",
    "                    if quan.mau == MAU_TRANG:\n",
    "                        quan_trang = True\n",
    "                    elif quan.mau == MAU_DEN:\n",
    "                        quan_den = True\n",
    "        #Nếu ko còn quân trắng trên bàn cờ\n",
    "        if not quan_trang:\n",
    "            return MAU_DEN  # Quân đen thắng\n",
    "        #Nếu ko còn quân đen trên bàn cờ\n",
    "        if not quan_den:\n",
    "            return MAU_TRANG  # Quân trắng thắng\n",
    "        return None  # Ván chơi chưa kết thúc"
   ]
  }
 ],
 "metadata": {
  "kernelspec": {
   "display_name": "64 CNTT Python course",
   "language": "python",
   "name": "py310cntt"
  },
  "language_info": {
   "codemirror_mode": {
    "name": "ipython",
    "version": 3
   },
   "file_extension": ".py",
   "mimetype": "text/x-python",
   "name": "python",
   "nbconvert_exporter": "python",
   "pygments_lexer": "ipython3",
   "version": "3.10.14"
  }
 },
 "nbformat": 4,
 "nbformat_minor": 2
}
