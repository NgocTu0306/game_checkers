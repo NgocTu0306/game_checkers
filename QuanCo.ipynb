{
 "cells": [
  {
   "cell_type": "code",
   "execution_count": 1,
   "metadata": {},
   "outputs": [],
   "source": [
    "from checkers.constants import*\n",
    "def __init__(self, hang, cot, mau):\n",
    "        self.hang = hang\n",
    "        self.cot = cot\n",
    "        self.mau = mau\n",
    "        self.vua = False\n",
    "        if self.mau == MAU_TRANG:\n",
    "            self.huong = [(1, -1), (1, 1)]  # Quân trắng đi xuống (di chuyển theo đường chéo)\n",
    "        else:\n",
    "            self.huong = [(-1, -1), (-1, 1)]  # Quân đen đi lên (di chuyển theo đường chéo)"
   ]
  },
  {
   "cell_type": "code",
   "execution_count": 8,
   "metadata": {},
   "outputs": [],
   "source": [
    "def taoVua(self):\n",
    "        self.vua = True\n",
    "        self.huong = [(-1, -1), (-1, 1), (1, -1), (1, 1)]  # Vua có thể đi cả 4 hướng\n",
    "        \n",
    "def is_regular_piece(self):\n",
    "            \"\"\"\n",
    "            Kiểm tra xem quân cờ có phải là quân cờ thường không.\n",
    "            Quân cờ thường là quân cờ chưa thăng chức thành vua.\n",
    "            \"\"\"\n",
    "            return not self.taoVua()"
   ]
  },
  {
   "cell_type": "code",
   "execution_count": 3,
   "metadata": {},
   "outputs": [],
   "source": [
    "def layViTri(self):\n",
    "        return (self.cot * KICH_THUOC_O + KICH_THUOC_O // 2, self.hang * KICH_THUOC_O + KICH_THUOC_O // 2)"
   ]
  },
  {
   "cell_type": "code",
   "execution_count": 4,
   "metadata": {},
   "outputs": [],
   "source": [
    "def veQuanCo(self, canvas):\n",
    "        xTrungTam, yTrungTam = self.layViTri()\n",
    "        banKinhQuanCo = KICH_THUOC_O // 3 # Quân cờ có bán kính =1/3 KICH_THUOC_O\n",
    "        if self.vua:\n",
    "            canvas.create_oval(xTrungTam - banKinhQuanCo, yTrungTam - banKinhQuanCo,\n",
    "                               xTrungTam + banKinhQuanCo, yTrungTam + banKinhQuanCo,\n",
    "                               fill=self.mau, outline=\"yellow\", width=3)  # Highlight quân vua với viền vàng\n",
    "        else:\n",
    "            canvas.create_oval(xTrungTam - banKinhQuanCo, yTrungTam - banKinhQuanCo,\n",
    "                               xTrungTam + banKinhQuanCo, yTrungTam + banKinhQuanCo,\n",
    "                               fill=self.mau)"
   ]
  },
  {
   "cell_type": "code",
   "execution_count": 5,
   "metadata": {},
   "outputs": [],
   "source": [
    "def position(self):\n",
    "        \"\"\"Thuộc tính trả về vị trí của quân cờ.\"\"\"\n",
    "        return (self.hang, self.cot)"
   ]
  },
  {
   "cell_type": "code",
   "execution_count": 6,
   "metadata": {},
   "outputs": [],
   "source": [
    "def getValidMoves(self):\n",
    "        \"\"\"Tính các nước đi hợp lệ của quân cờ\"\"\"\n",
    "        moves = [] #Khởi tạo danh sách để lưu các nước đi hợp lệ\n",
    "        directions = [(-1, -1), (-1, 1)] if self.mau == MAU_TRANG else [(1, -1), (1, 1)]\n",
    "        # Lặp qua tất cả các hướng di chuyển\n",
    "        for d in directions:\n",
    "            new_row = self.hang + d[0] #Tính vị trí mới của quân cờ thay đổi về hàng\n",
    "            new_col = self.cot + d[1] #Tính vị trí mới của quân cờ thay đổi về cột\n",
    "            # Kiểm tra vị trí mới có nằm trong phạm vi bàn cờ hay không\n",
    "            if 0 <= new_row < SO_HANG and 0 <= new_col < SO_COT:\n",
    "                moves.append((new_row, new_col))\n",
    "        return moves"
   ]
  },
  {
   "cell_type": "code",
   "execution_count": 9,
   "metadata": {},
   "outputs": [],
   "source": [
    "def __repr__(self):\n",
    "        return f\"Quân ({self.hang}, {self.cot}, {self.mau})\""
   ]
  }
 ],
 "metadata": {
  "kernelspec": {
   "display_name": "64 CNTT Python course",
   "language": "python",
   "name": "py310cntt"
  },
  "language_info": {
   "codemirror_mode": {
    "name": "ipython",
    "version": 3
   },
   "file_extension": ".py",
   "mimetype": "text/x-python",
   "name": "python",
   "nbconvert_exporter": "python",
   "pygments_lexer": "ipython3",
   "version": "3.10.14"
  }
 },
 "nbformat": 4,
 "nbformat_minor": 2
}
